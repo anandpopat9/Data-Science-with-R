{
 "cells": [
  {
   "cell_type": "code",
   "execution_count": null,
   "metadata": {
    "collapsed": false
   },
   "outputs": [],
   "source": [
    "library(dplyr)"
   ]
  },
  {
   "cell_type": "code",
   "execution_count": null,
   "metadata": {
    "collapsed": false
   },
   "outputs": [],
   "source": [
    "player=read.csv('/Users/anandpopat/desktop/player.csv')"
   ]
  },
  {
   "cell_type": "code",
   "execution_count": 4,
   "metadata": {
    "collapsed": true
   },
   "outputs": [],
   "source": [
    "team=read.csv('/Users/anandpopat/desktop/team.csv')"
   ]
  },
  {
   "cell_type": "markdown",
   "metadata": {},
   "source": [
    "Q1: Which are the top 10 players by overall rating?\n",
    "A1: Arrange the players into descending order of over all rating. Pick top 10."
   ]
  },
  {
   "cell_type": "code",
   "execution_count": 13,
   "metadata": {
    "collapsed": false
   },
   "outputs": [
    {
     "data": {
      "text/html": [
       "<table>\n",
       "<thead><tr><th scope=col>player_name</th></tr></thead>\n",
       "<tbody>\n",
       "\t<tr><td>Lionel Messi     </td></tr>\n",
       "\t<tr><td>Gianluigi Buffon </td></tr>\n",
       "\t<tr><td>Wayne Rooney     </td></tr>\n",
       "\t<tr><td>Cristiano Ronaldo</td></tr>\n",
       "\t<tr><td>Xavi Hernandez   </td></tr>\n",
       "\t<tr><td>Gregory Coupet   </td></tr>\n",
       "\t<tr><td>Thierry Henry    </td></tr>\n",
       "\t<tr><td>John Terry       </td></tr>\n",
       "\t<tr><td>Iker Casillas    </td></tr>\n",
       "\t<tr><td>Alessandro Nesta </td></tr>\n",
       "</tbody>\n",
       "</table>\n"
      ],
      "text/latex": [
       "\\begin{tabular}{r|l}\n",
       " player\\_name\\\\\n",
       "\\hline\n",
       "\t Lionel Messi     \\\\\n",
       "\t Gianluigi Buffon \\\\\n",
       "\t Wayne Rooney     \\\\\n",
       "\t Cristiano Ronaldo\\\\\n",
       "\t Xavi Hernandez   \\\\\n",
       "\t Gregory Coupet   \\\\\n",
       "\t Thierry Henry    \\\\\n",
       "\t John Terry       \\\\\n",
       "\t Iker Casillas    \\\\\n",
       "\t Alessandro Nesta \\\\\n",
       "\\end{tabular}\n"
      ],
      "text/markdown": [
       "\n",
       "player_name | \n",
       "|---|---|---|---|---|---|---|---|---|---|\n",
       "| Lionel Messi      | \n",
       "| Gianluigi Buffon  | \n",
       "| Wayne Rooney      | \n",
       "| Cristiano Ronaldo | \n",
       "| Xavi Hernandez    | \n",
       "| Gregory Coupet    | \n",
       "| Thierry Henry     | \n",
       "| John Terry        | \n",
       "| Iker Casillas     | \n",
       "| Alessandro Nesta  | \n",
       "\n",
       "\n"
      ],
      "text/plain": [
       "   player_name      \n",
       "1  Lionel Messi     \n",
       "2  Gianluigi Buffon \n",
       "3  Wayne Rooney     \n",
       "4  Cristiano Ronaldo\n",
       "5  Xavi Hernandez   \n",
       "6  Gregory Coupet   \n",
       "7  Thierry Henry    \n",
       "8  John Terry       \n",
       "9  Iker Casillas    \n",
       "10 Alessandro Nesta "
      ]
     },
     "metadata": {},
     "output_type": "display_data"
    }
   ],
   "source": [
    "top_over=select(arrange(player,desc(overall_rating)),player_name)\n",
    "head(top_over,10)"
   ]
  },
  {
   "cell_type": "markdown",
   "metadata": {},
   "source": [
    "Q2: Which are the top 10 goalkeepers by sum of gk attributes?\n",
    "A2: Arrange the players into descending order of gk rating. Pick top 10."
   ]
  },
  {
   "cell_type": "code",
   "execution_count": 17,
   "metadata": {
    "collapsed": false
   },
   "outputs": [
    {
     "data": {
      "text/html": [
       "<table>\n",
       "<thead><tr><th scope=col>player_name</th></tr></thead>\n",
       "<tbody>\n",
       "\t<tr><td>Gianluigi Buffon </td></tr>\n",
       "\t<tr><td>Gregory Coupet   </td></tr>\n",
       "\t<tr><td>Petr Cech        </td></tr>\n",
       "\t<tr><td>Iker Casillas    </td></tr>\n",
       "\t<tr><td>Manuel Neuer     </td></tr>\n",
       "\t<tr><td>Julio Cesar      </td></tr>\n",
       "\t<tr><td>Sebastian Frey   </td></tr>\n",
       "\t<tr><td>Edwin van der Sar</td></tr>\n",
       "\t<tr><td>David De Gea     </td></tr>\n",
       "\t<tr><td>Pepe Reina       </td></tr>\n",
       "</tbody>\n",
       "</table>\n"
      ],
      "text/latex": [
       "\\begin{tabular}{r|l}\n",
       " player\\_name\\\\\n",
       "\\hline\n",
       "\t Gianluigi Buffon \\\\\n",
       "\t Gregory Coupet   \\\\\n",
       "\t Petr Cech        \\\\\n",
       "\t Iker Casillas    \\\\\n",
       "\t Manuel Neuer     \\\\\n",
       "\t Julio Cesar      \\\\\n",
       "\t Sebastian Frey   \\\\\n",
       "\t Edwin van der Sar\\\\\n",
       "\t David De Gea     \\\\\n",
       "\t Pepe Reina       \\\\\n",
       "\\end{tabular}\n"
      ],
      "text/markdown": [
       "\n",
       "player_name | \n",
       "|---|---|---|---|---|---|---|---|---|---|\n",
       "| Gianluigi Buffon  | \n",
       "| Gregory Coupet    | \n",
       "| Petr Cech         | \n",
       "| Iker Casillas     | \n",
       "| Manuel Neuer      | \n",
       "| Julio Cesar       | \n",
       "| Sebastian Frey    | \n",
       "| Edwin van der Sar | \n",
       "| David De Gea      | \n",
       "| Pepe Reina        | \n",
       "\n",
       "\n"
      ],
      "text/plain": [
       "   player_name      \n",
       "1  Gianluigi Buffon \n",
       "2  Gregory Coupet   \n",
       "3  Petr Cech        \n",
       "4  Iker Casillas    \n",
       "5  Manuel Neuer     \n",
       "6  Julio Cesar      \n",
       "7  Sebastian Frey   \n",
       "8  Edwin van der Sar\n",
       "9  David De Gea     \n",
       "10 Pepe Reina       "
      ]
     },
     "metadata": {},
     "output_type": "display_data"
    }
   ],
   "source": [
    "top_gk=select(arrange(player,desc(gk_rating)),player_name)\n",
    "head(top_gk,10)"
   ]
  },
  {
   "cell_type": "markdown",
   "metadata": {},
   "source": [
    "Q3: Which are the top 10 players by number of appearances (with any team they played with)?\n",
    "A3: Arrange the players into descending order of number of appearances. Pick top 10."
   ]
  },
  {
   "cell_type": "code",
   "execution_count": 21,
   "metadata": {
    "collapsed": false
   },
   "outputs": [
    {
     "data": {
      "text/html": [
       "<table>\n",
       "<thead><tr><th scope=col>player_name</th></tr></thead>\n",
       "<tbody>\n",
       "\t<tr><td>Steve Mandanda      </td></tr>\n",
       "\t<tr><td>Stephane Ruffier    </td></tr>\n",
       "\t<tr><td>Gorka Iraizoz Moreno</td></tr>\n",
       "\t<tr><td>Samir Handanovic    </td></tr>\n",
       "\t<tr><td>Hugo Lloris         </td></tr>\n",
       "\t<tr><td>Tim Howard          </td></tr>\n",
       "\t<tr><td>Joe Hart            </td></tr>\n",
       "\t<tr><td>Cedric Carrasso     </td></tr>\n",
       "\t<tr><td>Daniel Congre       </td></tr>\n",
       "\t<tr><td>Moussa Sissoko      </td></tr>\n",
       "</tbody>\n",
       "</table>\n"
      ],
      "text/latex": [
       "\\begin{tabular}{r|l}\n",
       " player\\_name\\\\\n",
       "\\hline\n",
       "\t Steve Mandanda      \\\\\n",
       "\t Stephane Ruffier    \\\\\n",
       "\t Gorka Iraizoz Moreno\\\\\n",
       "\t Samir Handanovic    \\\\\n",
       "\t Hugo Lloris         \\\\\n",
       "\t Tim Howard          \\\\\n",
       "\t Joe Hart            \\\\\n",
       "\t Cedric Carrasso     \\\\\n",
       "\t Daniel Congre       \\\\\n",
       "\t Moussa Sissoko      \\\\\n",
       "\\end{tabular}\n"
      ],
      "text/markdown": [
       "\n",
       "player_name | \n",
       "|---|---|---|---|---|---|---|---|---|---|\n",
       "| Steve Mandanda       | \n",
       "| Stephane Ruffier     | \n",
       "| Gorka Iraizoz Moreno | \n",
       "| Samir Handanovic     | \n",
       "| Hugo Lloris          | \n",
       "| Tim Howard           | \n",
       "| Joe Hart             | \n",
       "| Cedric Carrasso      | \n",
       "| Daniel Congre        | \n",
       "| Moussa Sissoko       | \n",
       "\n",
       "\n"
      ],
      "text/plain": [
       "   player_name         \n",
       "1  Steve Mandanda      \n",
       "2  Stephane Ruffier    \n",
       "3  Gorka Iraizoz Moreno\n",
       "4  Samir Handanovic    \n",
       "5  Hugo Lloris         \n",
       "6  Tim Howard          \n",
       "7  Joe Hart            \n",
       "8  Cedric Carrasso     \n",
       "9  Daniel Congre       \n",
       "10 Moussa Sissoko      "
      ]
     },
     "metadata": {},
     "output_type": "display_data"
    }
   ],
   "source": [
    "top_app=select(arrange(player,desc(num_app)),player_name)\n",
    "head(top_app,10)"
   ]
  },
  {
   "cell_type": "markdown",
   "metadata": {},
   "source": [
    "Q4: Which are the top 10 players by number of leagues they played in?\n",
    "A4: Arrange the players into descending order of number of leagues. Pick top 10."
   ]
  },
  {
   "cell_type": "code",
   "execution_count": 25,
   "metadata": {
    "collapsed": false
   },
   "outputs": [
    {
     "data": {
      "text/html": [
       "<table>\n",
       "<thead><tr><th scope=col>player_name</th></tr></thead>\n",
       "<tbody>\n",
       "\t<tr><td>Gelson Fernandes     </td></tr>\n",
       "\t<tr><td>Ricky van Wolfswinkel</td></tr>\n",
       "\t<tr><td>Filip Djuricic       </td></tr>\n",
       "\t<tr><td>Radamel Falcao       </td></tr>\n",
       "\t<tr><td>Jonathan De Guzman   </td></tr>\n",
       "\t<tr><td>Almen Abdi           </td></tr>\n",
       "\t<tr><td>Ibrahim Afellay      </td></tr>\n",
       "\t<tr><td>Edson Braafheid      </td></tr>\n",
       "\t<tr><td>Eljero Elia          </td></tr>\n",
       "\t<tr><td>Danijel Pranjic      </td></tr>\n",
       "</tbody>\n",
       "</table>\n"
      ],
      "text/latex": [
       "\\begin{tabular}{r|l}\n",
       " player\\_name\\\\\n",
       "\\hline\n",
       "\t Gelson Fernandes     \\\\\n",
       "\t Ricky van Wolfswinkel\\\\\n",
       "\t Filip Djuricic       \\\\\n",
       "\t Radamel Falcao       \\\\\n",
       "\t Jonathan De Guzman   \\\\\n",
       "\t Almen Abdi           \\\\\n",
       "\t Ibrahim Afellay      \\\\\n",
       "\t Edson Braafheid      \\\\\n",
       "\t Eljero Elia          \\\\\n",
       "\t Danijel Pranjic      \\\\\n",
       "\\end{tabular}\n"
      ],
      "text/markdown": [
       "\n",
       "player_name | \n",
       "|---|---|---|---|---|---|---|---|---|---|\n",
       "| Gelson Fernandes      | \n",
       "| Ricky van Wolfswinkel | \n",
       "| Filip Djuricic        | \n",
       "| Radamel Falcao        | \n",
       "| Jonathan De Guzman    | \n",
       "| Almen Abdi            | \n",
       "| Ibrahim Afellay       | \n",
       "| Edson Braafheid       | \n",
       "| Eljero Elia           | \n",
       "| Danijel Pranjic       | \n",
       "\n",
       "\n"
      ],
      "text/plain": [
       "   player_name          \n",
       "1  Gelson Fernandes     \n",
       "2  Ricky van Wolfswinkel\n",
       "3  Filip Djuricic       \n",
       "4  Radamel Falcao       \n",
       "5  Jonathan De Guzman   \n",
       "6  Almen Abdi           \n",
       "7  Ibrahim Afellay      \n",
       "8  Edson Braafheid      \n",
       "9  Eljero Elia          \n",
       "10 Danijel Pranjic      "
      ]
     },
     "metadata": {},
     "output_type": "display_data"
    }
   ],
   "source": [
    "top_leag=select(arrange(player,desc(num_leagues)),player_name)\n",
    "head(top_leag,10)"
   ]
  },
  {
   "cell_type": "markdown",
   "metadata": {},
   "source": [
    "Q5: Which are the top 10 teams by sum of build up play attributes?\n",
    "A5: Arrange the teams into descending order of build up play. Pick top 10."
   ]
  },
  {
   "cell_type": "code",
   "execution_count": 28,
   "metadata": {
    "collapsed": false
   },
   "outputs": [
    {
     "data": {
      "text/html": [
       "<table>\n",
       "<thead><tr><th scope=col>team_long_name</th></tr></thead>\n",
       "<tbody>\n",
       "\t<tr><td>Torino                    </td></tr>\n",
       "\t<tr><td>Udinese                   </td></tr>\n",
       "\t<tr><td>Fortuna Düsseldorf        </td></tr>\n",
       "\t<tr><td>Podbeskidzie Bielsko-Biała</td></tr>\n",
       "\t<tr><td>Korona Kielce             </td></tr>\n",
       "\t<tr><td>Carpi                     </td></tr>\n",
       "\t<tr><td>Widzew Łódź               </td></tr>\n",
       "\t<tr><td>Widzew Łódź               </td></tr>\n",
       "\t<tr><td>FC Nantes                 </td></tr>\n",
       "\t<tr><td>Lazio                     </td></tr>\n",
       "</tbody>\n",
       "</table>\n"
      ],
      "text/latex": [
       "\\begin{tabular}{r|l}\n",
       " team\\_long\\_name\\\\\n",
       "\\hline\n",
       "\t Torino                    \\\\\n",
       "\t Udinese                   \\\\\n",
       "\t Fortuna Düsseldorf        \\\\\n",
       "\t Podbeskidzie Bielsko-Biała\\\\\n",
       "\t Korona Kielce             \\\\\n",
       "\t Carpi                     \\\\\n",
       "\t Widzew Łódź               \\\\\n",
       "\t Widzew Łódź               \\\\\n",
       "\t FC Nantes                 \\\\\n",
       "\t Lazio                     \\\\\n",
       "\\end{tabular}\n"
      ],
      "text/markdown": [
       "\n",
       "team_long_name | \n",
       "|---|---|---|---|---|---|---|---|---|---|\n",
       "| Torino                     | \n",
       "| Udinese                    | \n",
       "| Fortuna Düsseldorf         | \n",
       "| Podbeskidzie Bielsko-Biała | \n",
       "| Korona Kielce              | \n",
       "| Carpi                      | \n",
       "| Widzew Łódź                | \n",
       "| Widzew Łódź                | \n",
       "| FC Nantes                  | \n",
       "| Lazio                      | \n",
       "\n",
       "\n"
      ],
      "text/plain": [
       "   team_long_name            \n",
       "1  Torino                    \n",
       "2  Udinese                   \n",
       "3  Fortuna Düsseldorf        \n",
       "4  Podbeskidzie Bielsko-Biała\n",
       "5  Korona Kielce             \n",
       "6  Carpi                     \n",
       "7  Widzew Łódź               \n",
       "8  Widzew Łódź               \n",
       "9  FC Nantes                 \n",
       "10 Lazio                     "
      ]
     },
     "metadata": {},
     "output_type": "display_data"
    }
   ],
   "source": [
    "top_build=select(arrange(team,desc(buildUpPlay)),team_long_name)\n",
    "head(top_build,10)"
   ]
  },
  {
   "cell_type": "markdown",
   "metadata": {},
   "source": [
    "Q6: Which are the top 10 teams by sum of chance creation attributes?\n",
    "A6: Arrange the teams into descending order of chance creation. Pick top 10."
   ]
  },
  {
   "cell_type": "code",
   "execution_count": 31,
   "metadata": {
    "collapsed": false
   },
   "outputs": [
    {
     "data": {
      "text/html": [
       "<table>\n",
       "<thead><tr><th scope=col>team_long_name</th></tr></thead>\n",
       "<tbody>\n",
       "\t<tr><td>Lazio                  </td></tr>\n",
       "\t<tr><td>SV Werder Bremen       </td></tr>\n",
       "\t<tr><td>Napoli                 </td></tr>\n",
       "\t<tr><td>Manchester City        </td></tr>\n",
       "\t<tr><td>Tottenham Hotspur      </td></tr>\n",
       "\t<tr><td>Birmingham City        </td></tr>\n",
       "\t<tr><td>Wolverhampton Wanderers</td></tr>\n",
       "\t<tr><td>Burnley                </td></tr>\n",
       "\t<tr><td>Swansea City           </td></tr>\n",
       "\t<tr><td>Queens Park Rangers    </td></tr>\n",
       "</tbody>\n",
       "</table>\n"
      ],
      "text/latex": [
       "\\begin{tabular}{r|l}\n",
       " team\\_long\\_name\\\\\n",
       "\\hline\n",
       "\t Lazio                  \\\\\n",
       "\t SV Werder Bremen       \\\\\n",
       "\t Napoli                 \\\\\n",
       "\t Manchester City        \\\\\n",
       "\t Tottenham Hotspur      \\\\\n",
       "\t Birmingham City        \\\\\n",
       "\t Wolverhampton Wanderers\\\\\n",
       "\t Burnley                \\\\\n",
       "\t Swansea City           \\\\\n",
       "\t Queens Park Rangers    \\\\\n",
       "\\end{tabular}\n"
      ],
      "text/markdown": [
       "\n",
       "team_long_name | \n",
       "|---|---|---|---|---|---|---|---|---|---|\n",
       "| Lazio                   | \n",
       "| SV Werder Bremen        | \n",
       "| Napoli                  | \n",
       "| Manchester City         | \n",
       "| Tottenham Hotspur       | \n",
       "| Birmingham City         | \n",
       "| Wolverhampton Wanderers | \n",
       "| Burnley                 | \n",
       "| Swansea City            | \n",
       "| Queens Park Rangers     | \n",
       "\n",
       "\n"
      ],
      "text/plain": [
       "   team_long_name         \n",
       "1  Lazio                  \n",
       "2  SV Werder Bremen       \n",
       "3  Napoli                 \n",
       "4  Manchester City        \n",
       "5  Tottenham Hotspur      \n",
       "6  Birmingham City        \n",
       "7  Wolverhampton Wanderers\n",
       "8  Burnley                \n",
       "9  Swansea City           \n",
       "10 Queens Park Rangers    "
      ]
     },
     "metadata": {},
     "output_type": "display_data"
    }
   ],
   "source": [
    "top_CC=select(arrange(team,desc(chanceCreation)),team_long_name)\n",
    "head(top_CC,10)"
   ]
  },
  {
   "cell_type": "markdown",
   "metadata": {},
   "source": [
    "Q7: Which are the top 10 teams by sum of defense attributes?\n",
    "A7: Arrange the teams into descending order of defense. Pick top 10."
   ]
  },
  {
   "cell_type": "code",
   "execution_count": 34,
   "metadata": {
    "collapsed": false
   },
   "outputs": [
    {
     "data": {
      "text/html": [
       "<table>\n",
       "<thead><tr><th scope=col>team_long_name</th></tr></thead>\n",
       "<tbody>\n",
       "\t<tr><td>Beerschot AC           </td></tr>\n",
       "\t<tr><td>KVC Westerlo           </td></tr>\n",
       "\t<tr><td>Sporting Charleroi     </td></tr>\n",
       "\t<tr><td>West Bromwich Albion   </td></tr>\n",
       "\t<tr><td>Hull City              </td></tr>\n",
       "\t<tr><td>Birmingham City        </td></tr>\n",
       "\t<tr><td>Wolverhampton Wanderers</td></tr>\n",
       "\t<tr><td>Blackpool              </td></tr>\n",
       "\t<tr><td>Swansea City           </td></tr>\n",
       "\t<tr><td>Queens Park Rangers    </td></tr>\n",
       "</tbody>\n",
       "</table>\n"
      ],
      "text/latex": [
       "\\begin{tabular}{r|l}\n",
       " team\\_long\\_name\\\\\n",
       "\\hline\n",
       "\t Beerschot AC           \\\\\n",
       "\t KVC Westerlo           \\\\\n",
       "\t Sporting Charleroi     \\\\\n",
       "\t West Bromwich Albion   \\\\\n",
       "\t Hull City              \\\\\n",
       "\t Birmingham City        \\\\\n",
       "\t Wolverhampton Wanderers\\\\\n",
       "\t Blackpool              \\\\\n",
       "\t Swansea City           \\\\\n",
       "\t Queens Park Rangers    \\\\\n",
       "\\end{tabular}\n"
      ],
      "text/markdown": [
       "\n",
       "team_long_name | \n",
       "|---|---|---|---|---|---|---|---|---|---|\n",
       "| Beerschot AC            | \n",
       "| KVC Westerlo            | \n",
       "| Sporting Charleroi      | \n",
       "| West Bromwich Albion    | \n",
       "| Hull City               | \n",
       "| Birmingham City         | \n",
       "| Wolverhampton Wanderers | \n",
       "| Blackpool               | \n",
       "| Swansea City            | \n",
       "| Queens Park Rangers     | \n",
       "\n",
       "\n"
      ],
      "text/plain": [
       "   team_long_name         \n",
       "1  Beerschot AC           \n",
       "2  KVC Westerlo           \n",
       "3  Sporting Charleroi     \n",
       "4  West Bromwich Albion   \n",
       "5  Hull City              \n",
       "6  Birmingham City        \n",
       "7  Wolverhampton Wanderers\n",
       "8  Blackpool              \n",
       "9  Swansea City           \n",
       "10 Queens Park Rangers    "
      ]
     },
     "metadata": {},
     "output_type": "display_data"
    }
   ],
   "source": [
    "top_def=select(arrange(team,desc(defense)),team_long_name)\n",
    "head(top_def,10)"
   ]
  },
  {
   "cell_type": "markdown",
   "metadata": {},
   "source": [
    "Q8: Which are the top 10 teams by number of scored goals?\n",
    "A8: Arrange the teams into descending order of number of goals scored. Pick top 10."
   ]
  },
  {
   "cell_type": "code",
   "execution_count": 37,
   "metadata": {
    "collapsed": false
   },
   "outputs": [
    {
     "data": {
      "text/html": [
       "<table>\n",
       "<thead><tr><th scope=col>team_long_name</th></tr></thead>\n",
       "<tbody>\n",
       "\t<tr><td>FC Barcelona     </td></tr>\n",
       "\t<tr><td>Real Madrid CF   </td></tr>\n",
       "\t<tr><td>Celtic           </td></tr>\n",
       "\t<tr><td>FC Bayern Munich </td></tr>\n",
       "\t<tr><td>PSV              </td></tr>\n",
       "\t<tr><td>Ajax             </td></tr>\n",
       "\t<tr><td>FC Basel         </td></tr>\n",
       "\t<tr><td>Manchester City  </td></tr>\n",
       "\t<tr><td>Chelsea          </td></tr>\n",
       "\t<tr><td>Manchester United</td></tr>\n",
       "</tbody>\n",
       "</table>\n"
      ],
      "text/latex": [
       "\\begin{tabular}{r|l}\n",
       " team\\_long\\_name\\\\\n",
       "\\hline\n",
       "\t FC Barcelona     \\\\\n",
       "\t Real Madrid CF   \\\\\n",
       "\t Celtic           \\\\\n",
       "\t FC Bayern Munich \\\\\n",
       "\t PSV              \\\\\n",
       "\t Ajax             \\\\\n",
       "\t FC Basel         \\\\\n",
       "\t Manchester City  \\\\\n",
       "\t Chelsea          \\\\\n",
       "\t Manchester United\\\\\n",
       "\\end{tabular}\n"
      ],
      "text/markdown": [
       "\n",
       "team_long_name | \n",
       "|---|---|---|---|---|---|---|---|---|---|\n",
       "| FC Barcelona      | \n",
       "| Real Madrid CF    | \n",
       "| Celtic            | \n",
       "| FC Bayern Munich  | \n",
       "| PSV               | \n",
       "| Ajax              | \n",
       "| FC Basel          | \n",
       "| Manchester City   | \n",
       "| Chelsea           | \n",
       "| Manchester United | \n",
       "\n",
       "\n"
      ],
      "text/plain": [
       "   team_long_name   \n",
       "1  FC Barcelona     \n",
       "2  Real Madrid CF   \n",
       "3  Celtic           \n",
       "4  FC Bayern Munich \n",
       "5  PSV              \n",
       "6  Ajax             \n",
       "7  FC Basel         \n",
       "8  Manchester City  \n",
       "9  Chelsea          \n",
       "10 Manchester United"
      ]
     },
     "metadata": {},
     "output_type": "display_data"
    }
   ],
   "source": [
    "top_goals=select(arrange(team,desc(goals)),team_long_name)\n",
    "head(top_goals,10)"
   ]
  },
  {
   "cell_type": "code",
   "execution_count": null,
   "metadata": {
    "collapsed": true
   },
   "outputs": [],
   "source": []
  }
 ],
 "metadata": {
  "anaconda-cloud": {},
  "kernelspec": {
   "display_name": "R",
   "language": "R",
   "name": "ir"
  },
  "language_info": {
   "codemirror_mode": "r",
   "file_extension": ".r",
   "mimetype": "text/x-r-source",
   "name": "R",
   "pygments_lexer": "r",
   "version": "3.3.2"
  }
 },
 "nbformat": 4,
 "nbformat_minor": 1
}
