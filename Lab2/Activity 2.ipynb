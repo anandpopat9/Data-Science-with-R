{
 "cells": [
  {
   "cell_type": "code",
   "execution_count": null,
   "metadata": {
    "collapsed": false
   },
   "outputs": [],
   "source": [
    "library(dplyr)"
   ]
  },
  {
   "cell_type": "code",
   "execution_count": null,
   "metadata": {
    "collapsed": true
   },
   "outputs": [],
   "source": [
    "my_db <- src_sqlite(\"database.sqlite\")"
   ]
  },
  {
   "cell_type": "code",
   "execution_count": null,
   "metadata": {
    "collapsed": false
   },
   "outputs": [],
   "source": [
    "my_db"
   ]
  },
  {
   "cell_type": "code",
   "execution_count": null,
   "metadata": {
    "collapsed": true
   },
   "outputs": [],
   "source": [
    "player_tbl <- tbl(my_db, sql(\"SELECT * FROM Player\"))"
   ]
  },
  {
   "cell_type": "code",
   "execution_count": null,
   "metadata": {
    "collapsed": true
   },
   "outputs": [],
   "source": [
    "PA_tbl <- data.frame(tbl(my_db,sql(\"SELECT player_api_id, overall_rating FROM Player_Attributes\")))"
   ]
  },
  {
   "cell_type": "code",
   "execution_count": null,
   "metadata": {
    "collapsed": false
   },
   "outputs": [],
   "source": [
    "player_tbl"
   ]
  },
  {
   "cell_type": "markdown",
   "metadata": {},
   "source": [
    "//select the player name and ids from the player table and convert it to dataframe."
   ]
  },
  {
   "cell_type": "code",
   "execution_count": null,
   "metadata": {
    "collapsed": false
   },
   "outputs": [],
   "source": [
    "tbl1<-data.frame(select(player_tbl, player_api_id, player_name,player_fifa_api_id))"
   ]
  },
  {
   "cell_type": "markdown",
   "metadata": {},
   "source": [
    "//select unique entry of each player with the max overall rating. Rename fields."
   ]
  },
  {
   "cell_type": "code",
   "execution_count": null,
   "metadata": {
    "collapsed": false
   },
   "outputs": [],
   "source": [
    "grp1=group_by(distinct(tbl1),player_api_id,player_name,player_fifa_api_id)\n",
    "(grp2=summarize(grp1,max(overall_rating)))\n",
    "colnames(grp2)=c('player_api_id','player_name','player_fifa_id','overall_rating')"
   ]
  },
  {
   "cell_type": "code",
   "execution_count": null,
   "metadata": {
    "collapsed": true
   },
   "outputs": [],
   "source": [
    "gk_tbl <- data.frame(tbl(my_db,'Player_Attributes'))"
   ]
  },
  {
   "cell_type": "markdown",
   "metadata": {},
   "source": [
    "//select only the gk attributes and player api id"
   ]
  },
  {
   "cell_type": "code",
   "execution_count": null,
   "metadata": {
    "collapsed": true
   },
   "outputs": [],
   "source": [
    "gk_tbl <- select(gk_tbl,player_api_id,gk_diving,gk_handling, gk_kicking, gk_positioning,gk_reflexes)"
   ]
  },
  {
   "cell_type": "markdown",
   "metadata": {},
   "source": [
    "//make a new field gk_rating which is the sum of all the gk attributes"
   ]
  },
  {
   "cell_type": "code",
   "execution_count": null,
   "metadata": {
    "collapsed": true
   },
   "outputs": [],
   "source": [
    "gk_tbl <- mutate(gk_tbl, gk_rating = gk_diving+gk_handling+gk_kicking+gk_positioning+gk_reflexes)"
   ]
  },
  {
   "cell_type": "code",
   "execution_count": null,
   "metadata": {
    "collapsed": false
   },
   "outputs": [],
   "source": [
    "gk_tbl<-distinct(gk_tbl)"
   ]
  },
  {
   "cell_type": "markdown",
   "metadata": {},
   "source": [
    "//select unique entry of each player with the max gk_rating. Rename fields."
   ]
  },
  {
   "cell_type": "code",
   "execution_count": null,
   "metadata": {
    "collapsed": false
   },
   "outputs": [],
   "source": [
    "grp3=group_by(gk_tbl,player_api_id)\n",
    "(grp4=summarize(grp3,max(gk_rating)))\n",
    "colnames(grp4)=c('player_api_id','gk_rating')"
   ]
  },
  {
   "cell_type": "markdown",
   "metadata": {},
   "source": [
    "//join overall ratings group to gk_rating group by player api id"
   ]
  },
  {
   "cell_type": "code",
   "execution_count": null,
   "metadata": {
    "collapsed": false
   },
   "outputs": [],
   "source": [
    "table <- grp2 %>% left_join(grp4, by = \"player_api_id\")"
   ]
  },
  {
   "cell_type": "markdown",
   "metadata": {},
   "source": [
    "//write to a file to maintain a copy."
   ]
  },
  {
   "cell_type": "code",
   "execution_count": null,
   "metadata": {
    "collapsed": true
   },
   "outputs": [],
   "source": [
    "write.csv(tbl1,file=\"/Users/anandpopat/desktop/tbl1.csv\")"
   ]
  },
  {
   "cell_type": "code",
   "execution_count": null,
   "metadata": {
    "collapsed": true
   },
   "outputs": [],
   "source": [
    "Match <- tbl(my_db,\"Match\")"
   ]
  },
  {
   "cell_type": "markdown",
   "metadata": {},
   "source": [
    "//select fields that are required from match table."
   ]
  },
  {
   "cell_type": "code",
   "execution_count": null,
   "metadata": {
    "collapsed": true
   },
   "outputs": [],
   "source": [
    "Match <- select(Match,home_player_1,home_player_2, home_player_3, home_player_4,home_player_5, home_player_6, home_player_7,home_player_8, home_player_9, home_player_10,home_player_11, away_player_1, away_player_2,away_player_3, away_player_4, away_player_5,away_player_6, away_player_7, away_player_8,away_player_9, away_player_10, away_player_11)"
   ]
  },
  {
   "cell_type": "markdown",
   "metadata": {},
   "source": [
    "//select the home player 1 values which are not NA"
   ]
  },
  {
   "cell_type": "code",
   "execution_count": null,
   "metadata": {
    "collapsed": false
   },
   "outputs": [],
   "source": [
    "home1 <- select(filter(Match, home_player_1 > 0),home_player_1)"
   ]
  },
  {
   "cell_type": "code",
   "execution_count": null,
   "metadata": {
    "collapsed": false
   },
   "outputs": [],
   "source": [
    "home1=data.frame(home1)"
   ]
  },
  {
   "cell_type": "markdown",
   "metadata": {},
   "source": [
    "//count the number of players in home player 1 field by their player api id and give the count"
   ]
  },
  {
   "cell_type": "code",
   "execution_count": null,
   "metadata": {
    "collapsed": false
   },
   "outputs": [],
   "source": [
    "grp1 <- group_by(home1,home_player_1)\n",
    "(grp2 <- summarize(grp1,count=n()))"
   ]
  },
  {
   "cell_type": "markdown",
   "metadata": {},
   "source": [
    "//get the player api id"
   ]
  },
  {
   "cell_type": "code",
   "execution_count": null,
   "metadata": {
    "collapsed": false
   },
   "outputs": [],
   "source": [
    "num_app=data.frame(select(player,player_api_id))"
   ]
  },
  {
   "cell_type": "markdown",
   "metadata": {},
   "source": [
    "//rename columns"
   ]
  },
  {
   "cell_type": "code",
   "execution_count": null,
   "metadata": {
    "collapsed": false
   },
   "outputs": [],
   "source": [
    "colnames(grp2) <- c(\"player_api_id\",\"count\")"
   ]
  },
  {
   "cell_type": "markdown",
   "metadata": {},
   "source": [
    "//join the count of ids found in home player 1 to the table containing all the ids"
   ]
  },
  {
   "cell_type": "code",
   "execution_count": null,
   "metadata": {
    "collapsed": false
   },
   "outputs": [],
   "source": [
    "num_app <- num_app %>% left_join(grp2,by=\"player_api_id\")"
   ]
  },
  {
   "cell_type": "markdown",
   "metadata": {},
   "source": [
    "//Repeat the above procedure for home_player_1 to home_player_11 and from away_player_1 to away_player_11"
   ]
  },
  {
   "cell_type": "code",
   "execution_count": null,
   "metadata": {
    "collapsed": false
   },
   "outputs": [],
   "source": [
    "home2 <- select(filter(Match, home_player_2 > 0),home_player_2)\n",
    "home2=data.frame(home2)\n",
    "grp2 <- group_by(home2,home_player_2)\n",
    "(grp3 <- summarize(grp2,count1=n()))\n",
    "colnames(grp3) <- c(\"player_api_id\",\"count1\")\n",
    "num_app <- num_app %>% left_join(grp3)"
   ]
  },
  {
   "cell_type": "code",
   "execution_count": null,
   "metadata": {
    "collapsed": false
   },
   "outputs": [],
   "source": [
    "home3 <- select(filter(Match, home_player_3 > 0),home_player_3)\n",
    "home3=data.frame(home3)\n",
    "grp3 <- group_by(home3,home_player_3)\n",
    "(grp4 <- summarize(grp3,count2=n()))\n",
    "colnames(grp4) <- c(\"player_api_id\",\"count2\")\n",
    "num_app <- num_app %>% left_join(grp4)"
   ]
  },
  {
   "cell_type": "code",
   "execution_count": null,
   "metadata": {
    "collapsed": false
   },
   "outputs": [],
   "source": [
    "home4 <- select(filter(Match, home_player_4 > 0),home_player_4)\n",
    "home4=data.frame(home4)\n",
    "grp4 <- group_by(home4,home_player_4)\n",
    "(grp5 <- summarize(grp4,count3=n()))\n",
    "colnames(grp5) <- c(\"player_api_id\",\"count3\")\n",
    "num_app <- num_app %>% left_join(grp5)"
   ]
  },
  {
   "cell_type": "code",
   "execution_count": null,
   "metadata": {
    "collapsed": false
   },
   "outputs": [],
   "source": [
    "home5 <- select(filter(Match, home_player_5 > 0),home_player_5)\n",
    "home5=data.frame(home5)\n",
    "grp5 <- group_by(home5,home_player_5)\n",
    "(grp6 <- summarize(grp5,count4=n()))\n",
    "colnames(grp6) <- c(\"player_api_id\",\"count4\")\n",
    "num_app <- num_app %>% left_join(grp6)"
   ]
  },
  {
   "cell_type": "code",
   "execution_count": null,
   "metadata": {
    "collapsed": false
   },
   "outputs": [],
   "source": [
    "home6 <- select(filter(Match, home_player_6 > 0),home_player_6)\n",
    "home6=data.frame(home6)\n",
    "grp6 <- group_by(home6,home_player_6)\n",
    "(grp7 <- summarize(grp6,count5=n()))\n",
    "colnames(grp7) <- c(\"player_api_id\",\"count5\")\n",
    "num_app <- num_app %>% left_join(grp7)"
   ]
  },
  {
   "cell_type": "code",
   "execution_count": null,
   "metadata": {
    "collapsed": false
   },
   "outputs": [],
   "source": [
    "home7 <- select(filter(Match, home_player_7 > 0),home_player_7)\n",
    "home7=data.frame(home7)\n",
    "grp7 <- group_by(home7,home_player_7)\n",
    "(grp8 <- summarize(grp7,count6=n()))\n",
    "colnames(grp8) <- c(\"player_api_id\",\"count6\")\n",
    "num_app <- num_app %>% left_join(grp8)"
   ]
  },
  {
   "cell_type": "code",
   "execution_count": null,
   "metadata": {
    "collapsed": false
   },
   "outputs": [],
   "source": [
    "home8 <- select(filter(Match, home_player_8 > 0),home_player_8)\n",
    "home8=data.frame(home8)\n",
    "grp8 <- group_by(home8,home_player_8)\n",
    "(grp9 <- summarize(grp8,count7=n()))\n",
    "colnames(grp9) <- c(\"player_api_id\",\"count7\")\n",
    "num_app <- num_app %>% left_join(grp9)"
   ]
  },
  {
   "cell_type": "code",
   "execution_count": null,
   "metadata": {
    "collapsed": false
   },
   "outputs": [],
   "source": [
    "home9 <- select(filter(Match, home_player_9 > 0),home_player_9)\n",
    "home9=data.frame(home9)\n",
    "grp9 <- group_by(home9,home_player_9)\n",
    "(grp10 <- summarize(grp9,count8=n()))\n",
    "colnames(grp10) <- c(\"player_api_id\",\"count9\")\n",
    "num_app <- num_app %>% left_join(grp10)"
   ]
  },
  {
   "cell_type": "code",
   "execution_count": null,
   "metadata": {
    "collapsed": false
   },
   "outputs": [],
   "source": [
    "home10 <- select(filter(Match, home_player_10 > 0),home_player_10)\n",
    "home10=data.frame(home10)\n",
    "grp10 <- group_by(home10,home_player_10)\n",
    "(grp11 <- summarize(grp10,count9=n()))\n",
    "colnames(grp11) <- c(\"player_api_id\",\"count8\")\n",
    "num_app <- num_app %>% left_join(grp11)"
   ]
  },
  {
   "cell_type": "code",
   "execution_count": null,
   "metadata": {
    "collapsed": false
   },
   "outputs": [],
   "source": [
    "home11 <- select(filter(Match, home_player_11 > 0),home_player_11)\n",
    "home11=data.frame(home11)\n",
    "grp11 <- group_by(home11,home_player_11)\n",
    "(grp12 <- summarize(grp11,count10=n()))\n",
    "colnames(grp12) <- c(\"player_api_id\",\"count10\")\n",
    "num_app <- num_app %>% left_join(grp12)"
   ]
  },
  {
   "cell_type": "markdown",
   "metadata": {},
   "source": [
    "//Remove NA from dataframe"
   ]
  },
  {
   "cell_type": "code",
   "execution_count": null,
   "metadata": {
    "collapsed": false
   },
   "outputs": [],
   "source": [
    "dfr<-data.frame(num_app)\n",
    "dfr[is.na(dfr)]<-0\n",
    "dfr"
   ]
  },
  {
   "cell_type": "markdown",
   "metadata": {},
   "source": [
    "//make a total of all the counts calculated from home_player_1 to 11"
   ]
  },
  {
   "cell_type": "code",
   "execution_count": null,
   "metadata": {
    "collapsed": false
   },
   "outputs": [],
   "source": [
    "sum_num_app <- mutate(dfr, count_final = count+count1+count2+count3+count4+count5+count6+count7+count8+count9+count10)"
   ]
  },
  {
   "cell_type": "markdown",
   "metadata": {},
   "source": [
    "//data frame consisting the player api id and count of all the player appeared in home player 1 to 11"
   ]
  },
  {
   "cell_type": "code",
   "execution_count": null,
   "metadata": {
    "collapsed": false
   },
   "outputs": [],
   "source": [
    "sum_num_app<-select(sum_num_app,player_api_id,count_final)"
   ]
  },
  {
   "cell_type": "markdown",
   "metadata": {},
   "source": [
    "//Repeat for away_player_1 to 11"
   ]
  },
  {
   "cell_type": "code",
   "execution_count": null,
   "metadata": {
    "collapsed": false
   },
   "outputs": [],
   "source": [
    "num_app1=data.frame(select(player,player_api_id))"
   ]
  },
  {
   "cell_type": "code",
   "execution_count": null,
   "metadata": {
    "collapsed": false
   },
   "outputs": [],
   "source": [
    "grp<-group_by(data.frame(select(filter(Match,away_player_1>0),away_player_1)),away_player_1)\n",
    "(grp1<-summarize(grp,count11=n()))\n",
    "colnames(grp1)<-c('player_api_id','count11')\n",
    "num_app1 <- num_app1 %>% left_join(grp1)"
   ]
  },
  {
   "cell_type": "code",
   "execution_count": null,
   "metadata": {
    "collapsed": false
   },
   "outputs": [],
   "source": [
    "grp<-group_by(data.frame(select(filter(Match,away_player_5>0),away_player_5)),away_player_5)\n",
    "(grp1<-summarize(grp,count15=n()))\n",
    "colnames(grp1)<-c('player_api_id','count15')\n",
    "num_app1 <- num_app1 %>% left_join(grp1)"
   ]
  },
  {
   "cell_type": "code",
   "execution_count": null,
   "metadata": {
    "collapsed": false
   },
   "outputs": [],
   "source": [
    "grp<-group_by(data.frame(select(filter(Match,away_player_6>0),away_player_6)),away_player_6)\n",
    "(grp1<-summarize(grp,count16=n()))\n",
    "colnames(grp1)<-c('player_api_id','count16')\n",
    "num_app1 <- num_app1 %>% left_join(grp1)"
   ]
  },
  {
   "cell_type": "code",
   "execution_count": null,
   "metadata": {
    "collapsed": false
   },
   "outputs": [],
   "source": [
    "grp<-group_by(data.frame(select(filter(Match,away_player_7>0),away_player_7)),away_player_7)\n",
    "(grp1<-summarize(grp,count17=n()))\n",
    "colnames(grp1)<-c('player_api_id','count17')\n",
    "num_app1 <- num_app1 %>% left_join(grp1)"
   ]
  },
  {
   "cell_type": "code",
   "execution_count": null,
   "metadata": {
    "collapsed": false
   },
   "outputs": [],
   "source": [
    "grp<-group_by(data.frame(select(filter(Match,away_player_8>0),away_player_8)),away_player_8)\n",
    "(grp1<-summarize(grp,count18=n()))\n",
    "colnames(grp1)<-c('player_api_id','count18')\n",
    "num_app1 <- num_app1 %>% left_join(grp1)"
   ]
  },
  {
   "cell_type": "code",
   "execution_count": null,
   "metadata": {
    "collapsed": false
   },
   "outputs": [],
   "source": [
    "grp<-group_by(data.frame(select(filter(Match,away_player_9>0),away_player_9)),away_player_9)\n",
    "(grp1<-summarize(grp,count19=n()))\n",
    "colnames(grp1)<-c('player_api_id','count19')\n",
    "num_app1 <- num_app1 %>% left_join(grp1)"
   ]
  },
  {
   "cell_type": "code",
   "execution_count": null,
   "metadata": {
    "collapsed": false
   },
   "outputs": [],
   "source": [
    "grp<-group_by(data.frame(select(filter(Match,away_player_10>0),away_player_10)),away_player_10)\n",
    "(grp1<-summarize(grp,count20=n()))\n",
    "colnames(grp1)<-c('player_api_id','count20')\n",
    "num_app1 <- num_app1 %>% left_join(grp1)"
   ]
  },
  {
   "cell_type": "code",
   "execution_count": null,
   "metadata": {
    "collapsed": false
   },
   "outputs": [],
   "source": [
    "grp<-group_by(data.frame(select(filter(Match,away_player_11>0),away_player_11)),away_player_11)\n",
    "(grp1<-summarize(grp,count21=n()))\n",
    "colnames(grp1)<-c('player_api_id','count21')\n",
    "num_app1 <- num_app1 %>% left_join(grp1)"
   ]
  },
  {
   "cell_type": "code",
   "execution_count": null,
   "metadata": {
    "collapsed": false
   },
   "outputs": [],
   "source": [
    "grp<-group_by(data.frame(select(filter(Match,away_player_2>0),away_player_2)),away_player_2)\n",
    "(grp1<-summarize(grp,count12=n()))\n",
    "colnames(grp1)<-c('player_api_id','count12')\n",
    "num_app1 <- num_app1 %>% left_join(grp1)"
   ]
  },
  {
   "cell_type": "code",
   "execution_count": null,
   "metadata": {
    "collapsed": false
   },
   "outputs": [],
   "source": [
    "grp<-group_by(data.frame(select(filter(Match,away_player_3>0),away_player_3)),away_player_3)\n",
    "(grp1<-summarize(grp,count13=n()))\n",
    "colnames(grp1)<-c('player_api_id','count13')\n",
    "num_app1 <- num_app1 %>% left_join(grp1)"
   ]
  },
  {
   "cell_type": "code",
   "execution_count": null,
   "metadata": {
    "collapsed": false
   },
   "outputs": [],
   "source": [
    "grp<-group_by(data.frame(select(filter(Match,away_player_4>0),away_player_4)),away_player_4)\n",
    "(grp1<-summarize(grp,count14=n()))\n",
    "colnames(grp1)<-c('player_api_id','count14')\n",
    "num_app1 <- num_app1 %>% left_join(grp1)"
   ]
  },
  {
   "cell_type": "code",
   "execution_count": null,
   "metadata": {
    "collapsed": false
   },
   "outputs": [],
   "source": [
    "dfr<-data.frame(num_app1)\n",
    "dfr[is.na(dfr)]<-0\n",
    "dfr"
   ]
  },
  {
   "cell_type": "code",
   "execution_count": null,
   "metadata": {
    "collapsed": true
   },
   "outputs": [],
   "source": [
    "sum_num_app1 <- mutate(dfr, count_final1 = count11+count12+count13+count14+count15+count16+count17+count18+count19+count20+count21)"
   ]
  },
  {
   "cell_type": "code",
   "execution_count": null,
   "metadata": {
    "collapsed": false
   },
   "outputs": [],
   "source": [
    "sum_num_app1<-select(sum_num_app1,player_api_id,count_final1)"
   ]
  },
  {
   "cell_type": "markdown",
   "metadata": {},
   "source": [
    "//join the table containing count of home players to the one with away players count"
   ]
  },
  {
   "cell_type": "code",
   "execution_count": null,
   "metadata": {
    "collapsed": false
   },
   "outputs": [],
   "source": [
    "sum_num_app2<-sum_num_app %>% left_join(sum_num_app1)"
   ]
  },
  {
   "cell_type": "markdown",
   "metadata": {},
   "source": [
    "//total count of home and away players"
   ]
  },
  {
   "cell_type": "code",
   "execution_count": null,
   "metadata": {
    "collapsed": false
   },
   "outputs": [],
   "source": [
    "sum_num_app2<-mutate(sum_num_app2, count_final3 = count_final+count_final1)"
   ]
  },
  {
   "cell_type": "code",
   "execution_count": null,
   "metadata": {
    "collapsed": false
   },
   "outputs": [],
   "source": [
    "sum_num_app2<-select(sum_num_app2,player_api_id,count_final3)"
   ]
  },
  {
   "cell_type": "code",
   "execution_count": null,
   "metadata": {
    "collapsed": false
   },
   "outputs": [],
   "source": [
    "colnames(sum_num_app2)=c('player_api_id','num_app')"
   ]
  },
  {
   "cell_type": "markdown",
   "metadata": {},
   "source": [
    "//join the table containing the overall rating and gk rating to the one above with all the count(number of appearances) by player api id"
   ]
  },
  {
   "cell_type": "code",
   "execution_count": null,
   "metadata": {
    "collapsed": false
   },
   "outputs": [],
   "source": [
    "table=table %>% left_join(distinct(sum_num_app2),by='player_api_id')"
   ]
  },
  {
   "cell_type": "code",
   "execution_count": null,
   "metadata": {
    "collapsed": false
   },
   "outputs": [],
   "source": [
    "tbl1=tbl1 %>% left_join(sum_num_app2)"
   ]
  },
  {
   "cell_type": "code",
   "execution_count": null,
   "metadata": {
    "collapsed": false
   },
   "outputs": [],
   "source": [
    "tbl1=distinct(tbl1)"
   ]
  },
  {
   "cell_type": "markdown",
   "metadata": {},
   "source": [
    "//save in a file player.csv"
   ]
  },
  {
   "cell_type": "code",
   "execution_count": null,
   "metadata": {
    "collapsed": false
   },
   "outputs": [],
   "source": [
    "write.csv(tbl1,file=\"/Users/anandpopat/desktop/player.csv\")"
   ]
  },
  {
   "cell_type": "code",
   "execution_count": null,
   "metadata": {
    "collapsed": false
   },
   "outputs": [],
   "source": [
    "Match<-tbl(my_db,'Match')"
   ]
  },
  {
   "cell_type": "markdown",
   "metadata": {},
   "source": [
    "//dataframe of home player 1 to 11 with no NA values and league ids"
   ]
  },
  {
   "cell_type": "code",
   "execution_count": null,
   "metadata": {
    "collapsed": false
   },
   "outputs": [],
   "source": [
    "df=data.frame(select(filter(Match,home_player_1>0),league_id,home_player_1))\n",
    "colnames(df)=c('league_id','player_api_id')"
   ]
  },
  {
   "cell_type": "code",
   "execution_count": null,
   "metadata": {
    "collapsed": false
   },
   "outputs": [],
   "source": [
    "df1=data.frame(select(filter(Match,home_player_2>0),league_id,home_player_2))\n",
    "colnames(df1)=c('league_id','player_api_id')"
   ]
  },
  {
   "cell_type": "code",
   "execution_count": null,
   "metadata": {
    "collapsed": true
   },
   "outputs": [],
   "source": [
    "df3=data.frame(select(filter(Match,home_player_3>0),league_id,home_player_3))\n",
    "colnames(df3)=c('league_id','player_api_id')\n"
   ]
  },
  {
   "cell_type": "code",
   "execution_count": null,
   "metadata": {
    "collapsed": true
   },
   "outputs": [],
   "source": [
    "df4=data.frame(select(filter(Match,home_player_4>0),league_id,home_player_4))\n",
    "colnames(df4)=c('league_id','player_api_id')\n"
   ]
  },
  {
   "cell_type": "code",
   "execution_count": null,
   "metadata": {
    "collapsed": true
   },
   "outputs": [],
   "source": [
    "df5=data.frame(select(filter(Match,home_player_5>0),league_id,home_player_5))\n",
    "colnames(df5)=c('league_id','player_api_id')"
   ]
  },
  {
   "cell_type": "code",
   "execution_count": null,
   "metadata": {
    "collapsed": true
   },
   "outputs": [],
   "source": [
    "df6=data.frame(select(filter(Match,home_player_6>0),league_id,home_player_6))\n",
    "colnames(df6)=c('league_id','player_api_id')"
   ]
  },
  {
   "cell_type": "code",
   "execution_count": null,
   "metadata": {
    "collapsed": true
   },
   "outputs": [],
   "source": [
    "df7=data.frame(select(filter(Match,home_player_7>0),league_id,home_player_7))\n",
    "colnames(df7)=c('league_id','player_api_id')"
   ]
  },
  {
   "cell_type": "code",
   "execution_count": null,
   "metadata": {
    "collapsed": true
   },
   "outputs": [],
   "source": [
    "df8=data.frame(select(filter(Match,home_player_8>0),league_id,home_player_8))\n",
    "colnames(df8)=c('league_id','player_api_id')"
   ]
  },
  {
   "cell_type": "code",
   "execution_count": null,
   "metadata": {
    "collapsed": true
   },
   "outputs": [],
   "source": [
    "df9=data.frame(select(filter(Match,home_player_9>0),league_id,home_player_9))\n",
    "colnames(df9)=c('league_id','player_api_id')"
   ]
  },
  {
   "cell_type": "code",
   "execution_count": null,
   "metadata": {
    "collapsed": true
   },
   "outputs": [],
   "source": [
    "df10=data.frame(select(filter(Match,home_player_10>0),league_id,home_player_10))\n",
    "colnames(df10)=c('league_id','player_api_id')"
   ]
  },
  {
   "cell_type": "code",
   "execution_count": null,
   "metadata": {
    "collapsed": true
   },
   "outputs": [],
   "source": [
    "df11=data.frame(select(filter(Match,home_player_11>0),league_id,home_player_11))\n",
    "colnames(df11)=c('league_id','player_api_id')"
   ]
  },
  {
   "cell_type": "code",
   "execution_count": null,
   "metadata": {
    "collapsed": true
   },
   "outputs": [],
   "source": [
    "df12=data.frame(select(filter(Match,away_player_1>0),league_id,away_player_1))\n",
    "colnames(df12)=c('league_id','player_api_id')"
   ]
  },
  {
   "cell_type": "code",
   "execution_count": null,
   "metadata": {
    "collapsed": true
   },
   "outputs": [],
   "source": [
    "df13=data.frame(select(filter(Match,away_player_2>0),league_id,away_player_2))\n",
    "colnames(df13)=c('league_id','player_api_id')"
   ]
  },
  {
   "cell_type": "code",
   "execution_count": null,
   "metadata": {
    "collapsed": true
   },
   "outputs": [],
   "source": [
    "df14=data.frame(select(filter(Match,away_player_3>0),league_id,away_player_3))\n",
    "colnames(df14)=c('league_id','player_api_id')"
   ]
  },
  {
   "cell_type": "code",
   "execution_count": null,
   "metadata": {
    "collapsed": true
   },
   "outputs": [],
   "source": [
    "df15=data.frame(select(filter(Match,away_player_4>0),league_id,away_player_4))\n",
    "colnames(df15)=c('league_id','player_api_id')"
   ]
  },
  {
   "cell_type": "code",
   "execution_count": null,
   "metadata": {
    "collapsed": true
   },
   "outputs": [],
   "source": [
    "df16=data.frame(select(filter(Match,away_player_5>0),league_id,away_player_5))\n",
    "colnames(df16)=c('league_id','player_api_id')"
   ]
  },
  {
   "cell_type": "code",
   "execution_count": null,
   "metadata": {
    "collapsed": true
   },
   "outputs": [],
   "source": [
    "df17=data.frame(select(filter(Match,away_player_6>0),league_id,away_player_6))\n",
    "colnames(df17)=c('league_id','player_api_id')"
   ]
  },
  {
   "cell_type": "code",
   "execution_count": null,
   "metadata": {
    "collapsed": false
   },
   "outputs": [],
   "source": [
    "df18=data.frame(select(filter(Match,away_player_7>0),league_id,away_player_7))\n",
    "colnames(df18)=c('league_id','player_api_id')"
   ]
  },
  {
   "cell_type": "code",
   "execution_count": null,
   "metadata": {
    "collapsed": true
   },
   "outputs": [],
   "source": [
    "df19=data.frame(select(filter(Match,away_player_8>0),league_id,away_player_8))\n",
    "colnames(df19)=c('league_id','player_api_id')"
   ]
  },
  {
   "cell_type": "code",
   "execution_count": null,
   "metadata": {
    "collapsed": true
   },
   "outputs": [],
   "source": [
    "df20=data.frame(select(filter(Match,away_player_9>0),league_id,away_player_9))\n",
    "colnames(df20)=c('league_id','player_api_id')"
   ]
  },
  {
   "cell_type": "code",
   "execution_count": null,
   "metadata": {
    "collapsed": true
   },
   "outputs": [],
   "source": [
    "df21=data.frame(select(filter(Match,away_player_10>0),league_id,away_player_10))\n",
    "colnames(df21)=c('league_id','player_api_id')"
   ]
  },
  {
   "cell_type": "code",
   "execution_count": null,
   "metadata": {
    "collapsed": true
   },
   "outputs": [],
   "source": [
    "df22=data.frame(select(filter(Match,away_player_11>0),league_id,away_player_11))\n",
    "colnames(df22)=c('league_id','player_api_id')"
   ]
  },
  {
   "cell_type": "markdown",
   "metadata": {},
   "source": [
    "//make a single dataframe containing all the home and away player api id and league ids"
   ]
  },
  {
   "cell_type": "code",
   "execution_count": null,
   "metadata": {
    "collapsed": true
   },
   "outputs": [],
   "source": [
    "total <- rbind(df, df1,df3,df4,df5,df6,df7,df8,df9,df10,df11,df12,df13,df14,df15,df16,df17,df18,df19,df20,df21,df22)"
   ]
  },
  {
   "cell_type": "markdown",
   "metadata": {},
   "source": [
    "//group by player api id and find the number of distinct league the player has played in by using n_distinct.\n",
    "//join it to the table containing overall,gk rating and number of appearances"
   ]
  },
  {
   "cell_type": "code",
   "execution_count": null,
   "metadata": {
    "collapsed": false
   },
   "outputs": [],
   "source": [
    "grp5=group_by(total,player_api_id)\n",
    "(grp6=summarize(grp5,n_distinct(league_id)))\n",
    "colnames(grp6)=c('player_api_id','num_leagues')\n",
    "table = table %>% left_join(grp6,by='player_api_id')"
   ]
  },
  {
   "cell_type": "markdown",
   "metadata": {},
   "source": [
    "//write this table to file which will be the final player.csv"
   ]
  },
  {
   "cell_type": "code",
   "execution_count": null,
   "metadata": {
    "collapsed": false
   },
   "outputs": [],
   "source": [
    "write.csv(table,file='/Users/anandpopat/desktop/player.csv')"
   ]
  },
  {
   "cell_type": "code",
   "execution_count": null,
   "metadata": {
    "collapsed": true
   },
   "outputs": [],
   "source": [
    "Team<-tbl(my_db,'Team')"
   ]
  },
  {
   "cell_type": "code",
   "execution_count": null,
   "metadata": {
    "collapsed": false
   },
   "outputs": [],
   "source": [
    "Team<-select(data.frame(Team),team_api_id,team_fifa_api_id,team_long_name)\n",
    "Team<-distinct(Team)"
   ]
  },
  {
   "cell_type": "code",
   "execution_count": null,
   "metadata": {
    "collapsed": false
   },
   "outputs": [],
   "source": [
    "TA<-tbl(my_db,\"Team_Attributes\")"
   ]
  },
  {
   "cell_type": "markdown",
   "metadata": {},
   "source": [
    "//select the build up play (int) categories from the team_attributes table"
   ]
  },
  {
   "cell_type": "code",
   "execution_count": null,
   "metadata": {
    "collapsed": false
   },
   "outputs": [],
   "source": [
    "BP<-select(TA,team_api_id,buildUpPlaySpeed,buildUpPlayDribbling,buildUpPlayPassing)"
   ]
  },
  {
   "cell_type": "markdown",
   "metadata": {},
   "source": [
    "//remove NAs"
   ]
  },
  {
   "cell_type": "code",
   "execution_count": null,
   "metadata": {
    "collapsed": false
   },
   "outputs": [],
   "source": [
    "BP<-data.frame(BP)\n",
    "BP[is.na(BP)]<-0\n",
    "BP"
   ]
  },
  {
   "cell_type": "markdown",
   "metadata": {},
   "source": [
    "//Total of all the build up play attr."
   ]
  },
  {
   "cell_type": "code",
   "execution_count": null,
   "metadata": {
    "collapsed": true
   },
   "outputs": [],
   "source": [
    "BP<-mutate(BP,buildUpPlay=buildUpPlaySpeed+buildUpPlayDribbling+buildUpPlayPassing)"
   ]
  },
  {
   "cell_type": "markdown",
   "metadata": {},
   "source": [
    "//keep only the unique team api id from the max build up play and rename the fields."
   ]
  },
  {
   "cell_type": "code",
   "execution_count": null,
   "metadata": {
    "collapsed": false
   },
   "outputs": [],
   "source": [
    "BP<-select(BP,team_api_id,buildUpPlay)\n",
    "BP<-distinct(BP)\n",
    "grp1=group_by(BP,team_api_id)\n",
    "(grp2=summarize(grp1,max(buildUpPlay)))\n",
    "colnames(grp2)=c('team_api_id','buildUpPlay')\n"
   ]
  },
  {
   "cell_type": "markdown",
   "metadata": {},
   "source": [
    "//join it to the table with the names of teams"
   ]
  },
  {
   "cell_type": "code",
   "execution_count": null,
   "metadata": {
    "collapsed": false
   },
   "outputs": [],
   "source": [
    "Team<-Team %>% left_join(grp2,by='team_api_id')\n",
    "Team"
   ]
  },
  {
   "cell_type": "markdown",
   "metadata": {},
   "source": [
    "//same process used for build up play is also used for chance creation."
   ]
  },
  {
   "cell_type": "code",
   "execution_count": null,
   "metadata": {
    "collapsed": false
   },
   "outputs": [],
   "source": [
    "Team<-tbl(my_db,'Team')"
   ]
  },
  {
   "cell_type": "code",
   "execution_count": null,
   "metadata": {
    "collapsed": false
   },
   "outputs": [],
   "source": [
    "TA<-data.frame(tbl(my_db,\"Team_Attributes\"))"
   ]
  },
  {
   "cell_type": "code",
   "execution_count": null,
   "metadata": {
    "collapsed": false
   },
   "outputs": [],
   "source": [
    "CC<-select(TA,team_api_id,chanceCreationPassing,chanceCreationCrossing,chanceCreationShooting)"
   ]
  },
  {
   "cell_type": "code",
   "execution_count": null,
   "metadata": {
    "collapsed": false
   },
   "outputs": [],
   "source": [
    "CC<-mutate(CC,chanceCreation=chanceCreationPassing+chanceCreationCrossing+chanceCreationShooting)"
   ]
  },
  {
   "cell_type": "code",
   "execution_count": null,
   "metadata": {
    "collapsed": false
   },
   "outputs": [],
   "source": [
    "CC<-distinct(select(CC,team_api_id,chanceCreation))\n",
    "grp3=group_by(CC,team_api_id)\n",
    "(grp4=summarize(grp3,max(chanceCreation)))\n",
    "colnames(grp4)=c('team_api_id','chanceCreation')"
   ]
  },
  {
   "cell_type": "code",
   "execution_count": null,
   "metadata": {
    "collapsed": false
   },
   "outputs": [],
   "source": [
    "Team=Team %>% left_join(grp4,by='team_api_id')"
   ]
  },
  {
   "cell_type": "markdown",
   "metadata": {},
   "source": [
    "//same process which is done for build up play and chance creation is repeated for defence."
   ]
  },
  {
   "cell_type": "code",
   "execution_count": null,
   "metadata": {
    "collapsed": false
   },
   "outputs": [],
   "source": [
    "DD<-select(TA,team_api_id,defencePressure,defenceAggression,defenceTeamWidth)"
   ]
  },
  {
   "cell_type": "code",
   "execution_count": null,
   "metadata": {
    "collapsed": false
   },
   "outputs": [],
   "source": [
    "DD<-mutate(DD,defense=defencePressure+defenceAggression+defenceTeamWidth)"
   ]
  },
  {
   "cell_type": "code",
   "execution_count": null,
   "metadata": {
    "collapsed": false
   },
   "outputs": [],
   "source": [
    "DD<-distinct(select(DD,team_api_id,defense))\n",
    "grp5=group_by(DD,team_api_id)\n",
    "(grp6=summarize(grp5,max(defense)))\n",
    "colnames(grp6)=c('team_api_id','defense')"
   ]
  },
  {
   "cell_type": "code",
   "execution_count": null,
   "metadata": {
    "collapsed": true
   },
   "outputs": [],
   "source": [
    "Team=Team %>% left_join(grp6,by='team_api_id')"
   ]
  },
  {
   "cell_type": "markdown",
   "metadata": {},
   "source": [
    "//remove all the NAs"
   ]
  },
  {
   "cell_type": "code",
   "execution_count": null,
   "metadata": {
    "collapsed": false
   },
   "outputs": [],
   "source": [
    "Team[is.na(Team)]<-0\n",
    "Team"
   ]
  },
  {
   "cell_type": "code",
   "execution_count": null,
   "metadata": {
    "collapsed": true
   },
   "outputs": [],
   "source": [
    "write.csv(Team,file='/Users/anandpopat/desktop/team.csv')"
   ]
  },
  {
   "cell_type": "markdown",
   "metadata": {},
   "source": [
    "//to find the number of goals by each team"
   ]
  },
  {
   "cell_type": "code",
   "execution_count": null,
   "metadata": {
    "collapsed": false
   },
   "outputs": [],
   "source": [
    "goals=data.frame(select(Match,home_team_api_id,away_team_api_id,home_team_goal,away_team_goal))"
   ]
  },
  {
   "cell_type": "markdown",
   "metadata": {},
   "source": [
    "//group by home team and sum over all the goals scored by that team. rename the columns"
   ]
  },
  {
   "cell_type": "code",
   "execution_count": null,
   "metadata": {
    "collapsed": false
   },
   "outputs": [],
   "source": [
    "home_goals=select(goals,home_team_api_id,home_team_goal)\n",
    "grp1=group_by(home_goals,home_team_api_id)\n",
    "(grp2=summarize(grp1,sum(home_team_goal)))\n",
    "colnames(grp2)=c('team_api_id','goals')"
   ]
  },
  {
   "cell_type": "markdown",
   "metadata": {},
   "source": [
    "//group by away team and sum over all the goals scored by that team. rename the columns"
   ]
  },
  {
   "cell_type": "code",
   "execution_count": null,
   "metadata": {
    "collapsed": false
   },
   "outputs": [],
   "source": [
    "away_goals=select(goals,away_team_api_id,away_team_goal)\n",
    "grp3=group_by(away_goals,away_team_api_id)\n",
    "(grp4=summarize(grp3,sum(away_team_goal)))\n",
    "colnames(grp4)=c('team_api_id','goals')"
   ]
  },
  {
   "cell_type": "markdown",
   "metadata": {},
   "source": [
    "//combine the two dataframes containing the count of home team goals and away team goals. \n",
    "//group them by the teams and sum over all the goals scored by that team. rename the field."
   ]
  },
  {
   "cell_type": "code",
   "execution_count": null,
   "metadata": {
    "collapsed": false
   },
   "outputs": [],
   "source": [
    "table2=rbind(grp2,grp4)\n",
    "grp5=group_by(table2,team_api_id)\n",
    "(grp6=summarize(grp5,sum(goals)))\n",
    "colnames(grp6)=c('team_api_id','goals')"
   ]
  },
  {
   "cell_type": "markdown",
   "metadata": {},
   "source": [
    "//join this to the table with team name, buildup play, chance creation and defense."
   ]
  },
  {
   "cell_type": "code",
   "execution_count": null,
   "metadata": {
    "collapsed": true
   },
   "outputs": [],
   "source": [
    "Team=Team %>% left_join(grp6,by='team_api_id')"
   ]
  },
  {
   "cell_type": "markdown",
   "metadata": {},
   "source": [
    "//Team.csv is ready. Save it."
   ]
  },
  {
   "cell_type": "code",
   "execution_count": null,
   "metadata": {
    "collapsed": false
   },
   "outputs": [],
   "source": [
    "write.csv(Team,file='/Users/anandpopat/desktop/team.csv')"
   ]
  },
  {
   "cell_type": "markdown",
   "metadata": {
    "collapsed": true
   },
   "source": [
    "REFERENCES:\n",
    "1) lab-2.pdf\n",
    "2) https://cran.r-project.org/web/packages/dplyr/vignettes/databases.html\n",
    "3) The R Language. https://cran.r-project.org/\n",
    "4) R Vignette for dplyr: https://cran.r-project.org/web/packages/dplyr/vignettes/databases.html\n",
    "5) Kaggle Data science Platform, https://www.kaggle.com/"
   ]
  }
 ],
 "metadata": {
  "anaconda-cloud": {},
  "kernelspec": {
   "display_name": "R",
   "language": "R",
   "name": "ir"
  },
  "language_info": {
   "codemirror_mode": "r",
   "file_extension": ".r",
   "mimetype": "text/x-r-source",
   "name": "R",
   "pygments_lexer": "r",
   "version": "3.3.2"
  }
 },
 "nbformat": 4,
 "nbformat_minor": 1
}
