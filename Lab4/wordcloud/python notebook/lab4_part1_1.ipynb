{
 "cells": [
  {
   "cell_type": "code",
   "execution_count": 9,
   "metadata": {
    "collapsed": false
   },
   "outputs": [
    {
     "name": "stdout",
     "output_type": "stream",
     "text": [
      "[1] \"Using direct authentication\"\n"
     ]
    }
   ],
   "source": [
    "library(twitteR)\n",
    "library(sqldf)\n",
    "consumer_key <- 'aVCgyYsyFJkfspdbqLInkjzDa'\n",
    "consumer_secret <- 'vO2gNtNdhzbGbHvNbYqJQ0r5FDdytVZ4IP2lXiUVu4cTdoNsne'\n",
    "access_token <- '1157867358-2dv3Krqk7VHWFK4oTQAlJsn0XvOZ2ubFZ3MYABW'\n",
    "access_secret <- 'vUMy3URh5vhZU1X8ja1hJ6lFFgEcxCALY1qIpxbBTTgsp'\n",
    "options(httr_oauth_cache=T)\n",
    "setup_twitter_oauth(consumer_key, consumer_secret, access_token, access_secret)\n",
    "db <- dbConnect(SQLite(), dbname='vignette')\n",
    "register_db_backend(db)"
   ]
  },
  {
   "cell_type": "code",
   "execution_count": 10,
   "metadata": {
    "collapsed": true
   },
   "outputs": [],
   "source": [
    "tweets = searchTwitter('el classico',n=1000,lang='en')"
   ]
  },
  {
   "cell_type": "code",
   "execution_count": 11,
   "metadata": {
    "collapsed": true
   },
   "outputs": [],
   "source": [
    "library('stringr')"
   ]
  },
  {
   "cell_type": "code",
   "execution_count": 12,
   "metadata": {
    "collapsed": false
   },
   "outputs": [],
   "source": [
    "df=twListToDF(tweets)"
   ]
  },
  {
   "cell_type": "code",
   "execution_count": 13,
   "metadata": {
    "collapsed": false
   },
   "outputs": [],
   "source": [
    "file<-file(\"text.txt\")\n",
    "writeLines(df$text, file)\n",
    "close(file)"
   ]
  },
  {
   "cell_type": "code",
   "execution_count": 14,
   "metadata": {
    "collapsed": false
   },
   "outputs": [],
   "source": [
    "hashtag=str_extract_all(df$text, \"#\\\\S+\")\n",
    "mentions=str_extract_all(df$text, \"@\\\\S+\")"
   ]
  },
  {
   "cell_type": "code",
   "execution_count": 15,
   "metadata": {
    "collapsed": false
   },
   "outputs": [],
   "source": [
    "hashtag=unlist(hashtag)\n",
    "mentions=unlist(mentions)"
   ]
  },
  {
   "cell_type": "code",
   "execution_count": 16,
   "metadata": {
    "collapsed": false
   },
   "outputs": [],
   "source": [
    "file<-file(\"hashtag.txt\")\n",
    "writeLines(hashtag, file)\n",
    "close(file)\n",
    "file<-file(\"mentions.txt\")\n",
    "writeLines(mentions, file)\n",
    "close(file)"
   ]
  },
  {
   "cell_type": "code",
   "execution_count": null,
   "metadata": {
    "collapsed": true
   },
   "outputs": [],
   "source": []
  }
 ],
 "metadata": {
  "anaconda-cloud": {},
  "kernelspec": {
   "display_name": "R",
   "language": "R",
   "name": "ir"
  },
  "language_info": {
   "codemirror_mode": "r",
   "file_extension": ".r",
   "mimetype": "text/x-r-source",
   "name": "R",
   "pygments_lexer": "r",
   "version": "3.3.2"
  }
 },
 "nbformat": 4,
 "nbformat_minor": 1
}
