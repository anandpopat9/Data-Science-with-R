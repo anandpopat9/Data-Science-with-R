{
 "cells": [
  {
   "cell_type": "code",
   "execution_count": 1,
   "metadata": {
    "collapsed": true
   },
   "outputs": [],
   "source": [
    "location='Buffalo'"
   ]
  },
  {
   "cell_type": "markdown",
   "metadata": {},
   "source": [
    "//Enter the location to search the trends here."
   ]
  },
  {
   "cell_type": "code",
   "execution_count": 2,
   "metadata": {
    "collapsed": true
   },
   "outputs": [],
   "source": [
    "library(twitteR)"
   ]
  },
  {
   "cell_type": "code",
   "execution_count": 3,
   "metadata": {
    "collapsed": false
   },
   "outputs": [
    {
     "name": "stderr",
     "output_type": "stream",
     "text": [
      "Loading required package: ggplot2\n"
     ]
    }
   ],
   "source": [
    "library(ggmap)"
   ]
  },
  {
   "cell_type": "code",
   "execution_count": 4,
   "metadata": {
    "collapsed": true
   },
   "outputs": [],
   "source": [
    "consumer_key <- ''\n",
    "consumer_secret <- ''\n",
    "access_token <- ''\n",
    "access_secret <- ''"
   ]
  },
  {
   "cell_type": "code",
   "execution_count": 5,
   "metadata": {
    "collapsed": false
   },
   "outputs": [
    {
     "name": "stdout",
     "output_type": "stream",
     "text": [
      "[1] \"Using direct authentication\"\n"
     ]
    }
   ],
   "source": [
    "setup_twitter_oauth(consumer_key, consumer_secret, access_token, access_secret)"
   ]
  },
  {
   "cell_type": "markdown",
   "metadata": {},
   "source": [
    "//Above lines set the OAuth."
   ]
  },
  {
   "cell_type": "code",
   "execution_count": 6,
   "metadata": {
    "collapsed": true
   },
   "outputs": [],
   "source": [
    "location=as.character(location)"
   ]
  },
  {
   "cell_type": "code",
   "execution_count": 9,
   "metadata": {
    "collapsed": false
   },
   "outputs": [
    {
     "name": "stderr",
     "output_type": "stream",
     "text": [
      "Information from URL : http://maps.googleapis.com/maps/api/geocode/json?address=Buffalo&sensor=false\n",
      "Warning message:\n",
      "“geocode failed with status OVER_QUERY_LIMIT, location = \"Buffalo\"”"
     ]
    }
   ],
   "source": [
    "latlon=geocode(location)"
   ]
  },
  {
   "cell_type": "markdown",
   "metadata": {},
   "source": [
    "//Above lines of code get the lat-lon pair of the location entered through google API geocode."
   ]
  },
  {
   "cell_type": "code",
   "execution_count": 76,
   "metadata": {
    "collapsed": false
   },
   "outputs": [],
   "source": [
    "woeid=closestTrendLocations(latlon[2],latlon[1])"
   ]
  },
  {
   "cell_type": "markdown",
   "metadata": {},
   "source": [
    "//Use twitteR closestTrendLocations() function to get the woeid of the nearest place to that spot and get the trending topics of that spot."
   ]
  },
  {
   "cell_type": "code",
   "execution_count": 77,
   "metadata": {
    "collapsed": false
   },
   "outputs": [],
   "source": [
    "t1 <- getTrends(woeid$woeid)"
   ]
  },
  {
   "cell_type": "markdown",
   "metadata": {},
   "source": [
    "//Get the trends from the woeid obtained in the above step."
   ]
  },
  {
   "cell_type": "code",
   "execution_count": 78,
   "metadata": {
    "collapsed": false
   },
   "outputs": [],
   "source": [
    "name=data.frame(t1$name)"
   ]
  },
  {
   "cell_type": "markdown",
   "metadata": {},
   "source": [
    "Just get the names of the trending topics."
   ]
  },
  {
   "cell_type": "code",
   "execution_count": 79,
   "metadata": {
    "collapsed": false
   },
   "outputs": [
    {
     "data": {
      "text/html": [
       "'Trending topics are'"
      ],
      "text/latex": [
       "'Trending topics are'"
      ],
      "text/markdown": [
       "'Trending topics are'"
      ],
      "text/plain": [
       "[1] \"Trending topics are\""
      ]
     },
     "metadata": {},
     "output_type": "display_data"
    },
    {
     "data": {
      "text/html": [
       "<table>\n",
       "<thead><tr><th scope=col>t1.name</th></tr></thead>\n",
       "<tbody>\n",
       "\t<tr><td>Jamal Murray         </td></tr>\n",
       "\t<tr><td>#NBACelebGame        </td></tr>\n",
       "\t<tr><td>Riverdale            </td></tr>\n",
       "\t<tr><td>#CanM20              </td></tr>\n",
       "\t<tr><td>#FridayFeeling       </td></tr>\n",
       "\t<tr><td>#FamilyDay           </td></tr>\n",
       "\t<tr><td>#CWplayoffs          </td></tr>\n",
       "\t<tr><td>Bill Maher           </td></tr>\n",
       "\t<tr><td>Game 3               </td></tr>\n",
       "\t<tr><td>Vernon               </td></tr>\n",
       "\t<tr><td>Kyrie Irving         </td></tr>\n",
       "\t<tr><td>Donald Glover        </td></tr>\n",
       "\t<tr><td>Islam as Muslims     </td></tr>\n",
       "\t<tr><td>Marlies              </td></tr>\n",
       "\t<tr><td>Ryerson              </td></tr>\n",
       "\t<tr><td>Sea Dogs             </td></tr>\n",
       "\t<tr><td>The Animal           </td></tr>\n",
       "\t<tr><td>Nancy Elgie          </td></tr>\n",
       "\t<tr><td>Alexandre Daigle     </td></tr>\n",
       "\t<tr><td>Sidney Crosby        </td></tr>\n",
       "\t<tr><td>#longestnightpeel    </td></tr>\n",
       "\t<tr><td>#CJDLTV              </td></tr>\n",
       "\t<tr><td>#advocacyworks       </td></tr>\n",
       "\t<tr><td>#MakeASongWhiny      </td></tr>\n",
       "\t<tr><td>#RealTime            </td></tr>\n",
       "\t<tr><td>#GARTHinedmonton     </td></tr>\n",
       "\t<tr><td>#BCPainSummit        </td></tr>\n",
       "\t<tr><td>#LivePD              </td></tr>\n",
       "\t<tr><td>#ItsAboutTimeI       </td></tr>\n",
       "\t<tr><td>#winefest2017        </td></tr>\n",
       "\t<tr><td>#BlueBloods          </td></tr>\n",
       "\t<tr><td>#paparagilles        </td></tr>\n",
       "\t<tr><td>#olympiques          </td></tr>\n",
       "\t<tr><td>#BlueJackets         </td></tr>\n",
       "\t<tr><td>#JoinTheRegiment     </td></tr>\n",
       "\t<tr><td>#Remparts            </td></tr>\n",
       "\t<tr><td>#LARain              </td></tr>\n",
       "\t<tr><td>#TrueNorthCalling    </td></tr>\n",
       "\t<tr><td>#heho                </td></tr>\n",
       "\t<tr><td>#DayofFacts          </td></tr>\n",
       "\t<tr><td>#Garland             </td></tr>\n",
       "\t<tr><td>#M103                </td></tr>\n",
       "\t<tr><td>#CdnAgDay            </td></tr>\n",
       "\t<tr><td>#WinterShakeUp       </td></tr>\n",
       "\t<tr><td>#PresidentialTVShows </td></tr>\n",
       "\t<tr><td>#RVNMO               </td></tr>\n",
       "\t<tr><td>#FlashbackFriday     </td></tr>\n",
       "\t<tr><td>#HTGAWM              </td></tr>\n",
       "\t<tr><td>#TrumpPressConference</td></tr>\n",
       "\t<tr><td>#PokemonGO           </td></tr>\n",
       "</tbody>\n",
       "</table>\n"
      ],
      "text/latex": [
       "\\begin{tabular}{r|l}\n",
       " t1.name\\\\\n",
       "\\hline\n",
       "\t Jamal Murray         \\\\\n",
       "\t \\#NBACelebGame        \\\\\n",
       "\t Riverdale            \\\\\n",
       "\t \\#CanM20              \\\\\n",
       "\t \\#FridayFeeling       \\\\\n",
       "\t \\#FamilyDay           \\\\\n",
       "\t \\#CWplayoffs          \\\\\n",
       "\t Bill Maher           \\\\\n",
       "\t Game 3               \\\\\n",
       "\t Vernon               \\\\\n",
       "\t Kyrie Irving         \\\\\n",
       "\t Donald Glover        \\\\\n",
       "\t Islam as Muslims     \\\\\n",
       "\t Marlies              \\\\\n",
       "\t Ryerson              \\\\\n",
       "\t Sea Dogs             \\\\\n",
       "\t The Animal           \\\\\n",
       "\t Nancy Elgie          \\\\\n",
       "\t Alexandre Daigle     \\\\\n",
       "\t Sidney Crosby        \\\\\n",
       "\t \\#longestnightpeel    \\\\\n",
       "\t \\#CJDLTV              \\\\\n",
       "\t \\#advocacyworks       \\\\\n",
       "\t \\#MakeASongWhiny      \\\\\n",
       "\t \\#RealTime            \\\\\n",
       "\t \\#GARTHinedmonton     \\\\\n",
       "\t \\#BCPainSummit        \\\\\n",
       "\t \\#LivePD              \\\\\n",
       "\t \\#ItsAboutTimeI       \\\\\n",
       "\t \\#winefest2017        \\\\\n",
       "\t \\#BlueBloods          \\\\\n",
       "\t \\#paparagilles        \\\\\n",
       "\t \\#olympiques          \\\\\n",
       "\t \\#BlueJackets         \\\\\n",
       "\t \\#JoinTheRegiment     \\\\\n",
       "\t \\#Remparts            \\\\\n",
       "\t \\#LARain              \\\\\n",
       "\t \\#TrueNorthCalling    \\\\\n",
       "\t \\#heho                \\\\\n",
       "\t \\#DayofFacts          \\\\\n",
       "\t \\#Garland             \\\\\n",
       "\t \\#M103                \\\\\n",
       "\t \\#CdnAgDay            \\\\\n",
       "\t \\#WinterShakeUp       \\\\\n",
       "\t \\#PresidentialTVShows \\\\\n",
       "\t \\#RVNMO               \\\\\n",
       "\t \\#FlashbackFriday     \\\\\n",
       "\t \\#HTGAWM              \\\\\n",
       "\t \\#TrumpPressConference\\\\\n",
       "\t \\#PokemonGO           \\\\\n",
       "\\end{tabular}\n"
      ],
      "text/markdown": [
       "\n",
       "t1.name | \n",
       "|---|---|---|---|---|---|---|---|---|---|---|---|---|---|---|---|---|---|---|---|---|---|---|---|---|---|---|---|---|---|---|---|---|---|---|---|---|---|---|---|---|---|---|---|---|---|---|---|---|---|\n",
       "| Jamal Murray          | \n",
       "| #NBACelebGame         | \n",
       "| Riverdale             | \n",
       "| #CanM20               | \n",
       "| #FridayFeeling        | \n",
       "| #FamilyDay            | \n",
       "| #CWplayoffs           | \n",
       "| Bill Maher            | \n",
       "| Game 3                | \n",
       "| Vernon                | \n",
       "| Kyrie Irving          | \n",
       "| Donald Glover         | \n",
       "| Islam as Muslims      | \n",
       "| Marlies               | \n",
       "| Ryerson               | \n",
       "| Sea Dogs              | \n",
       "| The Animal            | \n",
       "| Nancy Elgie           | \n",
       "| Alexandre Daigle      | \n",
       "| Sidney Crosby         | \n",
       "| #longestnightpeel     | \n",
       "| #CJDLTV               | \n",
       "| #advocacyworks        | \n",
       "| #MakeASongWhiny       | \n",
       "| #RealTime             | \n",
       "| #GARTHinedmonton      | \n",
       "| #BCPainSummit         | \n",
       "| #LivePD               | \n",
       "| #ItsAboutTimeI        | \n",
       "| #winefest2017         | \n",
       "| #BlueBloods           | \n",
       "| #paparagilles         | \n",
       "| #olympiques           | \n",
       "| #BlueJackets          | \n",
       "| #JoinTheRegiment      | \n",
       "| #Remparts             | \n",
       "| #LARain               | \n",
       "| #TrueNorthCalling     | \n",
       "| #heho                 | \n",
       "| #DayofFacts           | \n",
       "| #Garland              | \n",
       "| #M103                 | \n",
       "| #CdnAgDay             | \n",
       "| #WinterShakeUp        | \n",
       "| #PresidentialTVShows  | \n",
       "| #RVNMO                | \n",
       "| #FlashbackFriday      | \n",
       "| #HTGAWM               | \n",
       "| #TrumpPressConference | \n",
       "| #PokemonGO            | \n",
       "\n",
       "\n"
      ],
      "text/plain": [
       "   t1.name              \n",
       "1  Jamal Murray         \n",
       "2  #NBACelebGame        \n",
       "3  Riverdale            \n",
       "4  #CanM20              \n",
       "5  #FridayFeeling       \n",
       "6  #FamilyDay           \n",
       "7  #CWplayoffs          \n",
       "8  Bill Maher           \n",
       "9  Game 3               \n",
       "10 Vernon               \n",
       "11 Kyrie Irving         \n",
       "12 Donald Glover        \n",
       "13 Islam as Muslims     \n",
       "14 Marlies              \n",
       "15 Ryerson              \n",
       "16 Sea Dogs             \n",
       "17 The Animal           \n",
       "18 Nancy Elgie          \n",
       "19 Alexandre Daigle     \n",
       "20 Sidney Crosby        \n",
       "21 #longestnightpeel    \n",
       "22 #CJDLTV              \n",
       "23 #advocacyworks       \n",
       "24 #MakeASongWhiny      \n",
       "25 #RealTime            \n",
       "26 #GARTHinedmonton     \n",
       "27 #BCPainSummit        \n",
       "28 #LivePD              \n",
       "29 #ItsAboutTimeI       \n",
       "30 #winefest2017        \n",
       "31 #BlueBloods          \n",
       "32 #paparagilles        \n",
       "33 #olympiques          \n",
       "34 #BlueJackets         \n",
       "35 #JoinTheRegiment     \n",
       "36 #Remparts            \n",
       "37 #LARain              \n",
       "38 #TrueNorthCalling    \n",
       "39 #heho                \n",
       "40 #DayofFacts          \n",
       "41 #Garland             \n",
       "42 #M103                \n",
       "43 #CdnAgDay            \n",
       "44 #WinterShakeUp       \n",
       "45 #PresidentialTVShows \n",
       "46 #RVNMO               \n",
       "47 #FlashbackFriday     \n",
       "48 #HTGAWM              \n",
       "49 #TrumpPressConference\n",
       "50 #PokemonGO           "
      ]
     },
     "metadata": {},
     "output_type": "display_data"
    }
   ],
   "source": [
    "'Trending topics are'\n",
    "name"
   ]
  },
  {
   "cell_type": "markdown",
   "metadata": {
    "collapsed": true
   },
   "source": [
    "REFERENCES:\n",
    "DIC Lab1.pdf\n",
    "twitteR Vignette."
   ]
  }
 ],
 "metadata": {
  "anaconda-cloud": {},
  "kernelspec": {
   "display_name": "R",
   "language": "R",
   "name": "ir"
  },
  "language_info": {
   "codemirror_mode": "r",
   "file_extension": ".r",
   "mimetype": "text/x-r-source",
   "name": "R",
   "pygments_lexer": "r",
   "version": "3.3.2"
  }
 },
 "nbformat": 4,
 "nbformat_minor": 1
}
